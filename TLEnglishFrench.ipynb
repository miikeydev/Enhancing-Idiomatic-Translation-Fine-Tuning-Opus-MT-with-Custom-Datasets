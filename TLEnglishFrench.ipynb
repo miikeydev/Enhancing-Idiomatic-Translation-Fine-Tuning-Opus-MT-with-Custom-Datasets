{
 "cells": [
  {
   "cell_type": "code",
   "execution_count": 6,
   "id": "993e58e5-7735-4551-8a0a-eb855b8d126e",
   "metadata": {},
   "outputs": [],
   "source": [
    "import pandas as pd\n",
    "import matplotlib.pyplot as plt\n",
    "\n",
    "chemin_fichier_csv = 'DBfinal.csv'\n",
    "dataset = pd.read_csv(chemin_fichier_csv)"
   ]
  },
  {
   "cell_type": "code",
   "execution_count": 7,
   "id": "70e92d31-f38f-4649-8dd7-aa36d66abe6b",
   "metadata": {},
   "outputs": [
    {
     "name": "stdout",
     "output_type": "stream",
     "text": [
      "Taille de l'ensemble d'entraînement: 117203\n",
      "Taille de l'ensemble de test: 1184\n"
     ]
    }
   ],
   "source": [
    "from sklearn.model_selection import train_test_split\n",
    "\n",
    "train, test = train_test_split(dataset, test_size=0.01)\n",
    "print(f\"Training set size: {len(train)}\")\n",
    "print(f\"Test set size: {len(test)}\")"
   ]
  },
  {
   "cell_type": "code",
   "execution_count": 8,
   "id": "f56c7a25-4369-4e3a-9477-dfbd8780e5f2",
   "metadata": {},
   "outputs": [],
   "source": [
    "from transformers import MarianTokenizer\n",
    "\n",
    "model_name = \"Helsinki-NLP/opus-mt-en-fr\"\n",
    "tokenizer = MarianTokenizer.from_pretrained(model_name)"
   ]
  },
  {
   "cell_type": "code",
   "execution_count": 9,
   "id": "fe259772-e4be-4786-92c3-747a83c4fc7e",
   "metadata": {},
   "outputs": [],
   "source": [
    "from datasets import Dataset\n",
    "\n",
    "train_dataset = Dataset.from_pandas(train)\n",
    "test_dataset = Dataset.from_pandas(test)"
   ]
  },
  {
   "cell_type": "code",
   "execution_count": 10,
   "id": "11eff276-f91a-4f7d-859b-4723c2070542",
   "metadata": {},
   "outputs": [
    {
     "data": {
      "application/vnd.jupyter.widget-view+json": {
       "model_id": "c7a20f23227045918654a10e120fa2e1",
       "version_major": 2,
       "version_minor": 0
      },
      "text/plain": [
       "Map:   0%|          | 0/117203 [00:00<?, ? examples/s]"
      ]
     },
     "metadata": {},
     "output_type": "display_data"
    },
    {
     "data": {
      "application/vnd.jupyter.widget-view+json": {
       "model_id": "fdfdfa4a5c74489fb0171cce395520af",
       "version_major": 2,
       "version_minor": 0
      },
      "text/plain": [
       "Map:   0%|          | 0/1184 [00:00<?, ? examples/s]"
      ]
     },
     "metadata": {},
     "output_type": "display_data"
    }
   ],
   "source": [
    "def preprocess_function(examples):\n",
    "    \n",
    "    inputs = tokenizer(examples[\"eng\"], max_length=35, truncation=True, padding=\"max_length\")\n",
    "    targets = tokenizer(examples[\"fr\"], max_length=35, truncation=True, padding=\"max_length\")\n",
    "    return {\"input_ids\": inputs.input_ids, \"attention_mask\": inputs.attention_mask, \"labels\": targets.input_ids}\n",
    "\n",
    "tokenized_train_dataset = train_dataset.map(preprocess_function, batched=True)\n",
    "tokenized_test_dataset = test_dataset.map(preprocess_function, batched=True)\n"
   ]
  },
  {
   "cell_type": "code",
   "execution_count": 13,
   "id": "6f70a3a8-a4d3-49a7-a665-b9cef233aad5",
   "metadata": {},
   "outputs": [
    {
     "name": "stderr",
     "output_type": "stream",
     "text": [
      "C:\\Users\\duody\\anaconda3\\envs\\envforcuda\\lib\\site-packages\\huggingface_hub\\file_download.py:1132: FutureWarning: `resume_download` is deprecated and will be removed in version 1.0.0. Downloads always resume when possible. If you want to force a new download, use `force_download=True`.\n",
      "  warnings.warn(\n"
     ]
    },
    {
     "name": "stdout",
     "output_type": "stream",
     "text": [
      "Le modèle utilise : cuda\n"
     ]
    },
    {
     "data": {
      "text/html": [
       "\n",
       "    <div>\n",
       "      \n",
       "      <progress value='29304' max='29304' style='width:300px; height:20px; vertical-align: middle;'></progress>\n",
       "      [29304/29304 2:17:56, Epoch 4/4]\n",
       "    </div>\n",
       "    <table border=\"1\" class=\"dataframe\">\n",
       "  <thead>\n",
       " <tr style=\"text-align: left;\">\n",
       "      <th>Epoch</th>\n",
       "      <th>Training Loss</th>\n",
       "      <th>Validation Loss</th>\n",
       "    </tr>\n",
       "  </thead>\n",
       "  <tbody>\n",
       "    <tr>\n",
       "      <td>1</td>\n",
       "      <td>0.348500</td>\n",
       "      <td>0.277609</td>\n",
       "    </tr>\n",
       "    <tr>\n",
       "      <td>2</td>\n",
       "      <td>0.250600</td>\n",
       "      <td>0.237238</td>\n",
       "    </tr>\n",
       "    <tr>\n",
       "      <td>3</td>\n",
       "      <td>0.196800</td>\n",
       "      <td>0.221928</td>\n",
       "    </tr>\n",
       "    <tr>\n",
       "      <td>4</td>\n",
       "      <td>0.165200</td>\n",
       "      <td>0.216340</td>\n",
       "    </tr>\n",
       "  </tbody>\n",
       "</table><p>"
      ],
      "text/plain": [
       "<IPython.core.display.HTML object>"
      ]
     },
     "metadata": {},
     "output_type": "display_data"
    },
    {
     "name": "stderr",
     "output_type": "stream",
     "text": [
      "Some non-default generation parameters are set in the model config. These should go into a GenerationConfig file (https://huggingface.co/docs/transformers/generation_strategies#save-a-custom-decoding-strategy-with-your-model) instead. This warning will be raised to an exception in v4.41.\n",
      "Non-default generation parameters: {'max_length': 512, 'num_beams': 4, 'bad_words_ids': [[59513]], 'forced_eos_token_id': 0}\n",
      "Some non-default generation parameters are set in the model config. These should go into a GenerationConfig file (https://huggingface.co/docs/transformers/generation_strategies#save-a-custom-decoding-strategy-with-your-model) instead. This warning will be raised to an exception in v4.41.\n",
      "Non-default generation parameters: {'max_length': 512, 'num_beams': 4, 'bad_words_ids': [[59513]], 'forced_eos_token_id': 0}\n",
      "Some non-default generation parameters are set in the model config. These should go into a GenerationConfig file (https://huggingface.co/docs/transformers/generation_strategies#save-a-custom-decoding-strategy-with-your-model) instead. This warning will be raised to an exception in v4.41.\n",
      "Non-default generation parameters: {'max_length': 512, 'num_beams': 4, 'bad_words_ids': [[59513]], 'forced_eos_token_id': 0}\n",
      "Some non-default generation parameters are set in the model config. These should go into a GenerationConfig file (https://huggingface.co/docs/transformers/generation_strategies#save-a-custom-decoding-strategy-with-your-model) instead. This warning will be raised to an exception in v4.41.\n",
      "Non-default generation parameters: {'max_length': 512, 'num_beams': 4, 'bad_words_ids': [[59513]], 'forced_eos_token_id': 0}\n"
     ]
    },
    {
     "data": {
      "text/plain": [
       "TrainOutput(global_step=29304, training_loss=0.30409445008911334, metrics={'train_runtime': 8287.2016, 'train_samples_per_second': 56.571, 'train_steps_per_second': 3.536, 'total_flos': 4345457883217920.0, 'train_loss': 0.30409445008911334, 'epoch': 4.0})"
      ]
     },
     "execution_count": 13,
     "metadata": {},
     "output_type": "execute_result"
    }
   ],
   "source": [
    "from transformers import MarianMTModel, MarianConfig, TrainingArguments, Trainer\n",
    "import torch\n",
    "\n",
    "config = MarianConfig.from_pretrained(model_name)\n",
    "model = MarianMTModel.from_pretrained(model_name, config=config)\n",
    "\n",
    "device = torch.device(\"cuda\" if torch.cuda.is_available() else \"cpu\")\n",
    "model.to(device)  \n",
    "print(f\"Le modèle utilise : {device}\")\n",
    "\n",
    "training_args = TrainingArguments(\n",
    "    output_dir=\"./resultsENG\",\n",
    "    num_train_epochs=4,\n",
    "    per_device_train_batch_size=16,\n",
    "    per_device_eval_batch_size=64,\n",
    "    warmup_steps=500,\n",
    "    weight_decay=0.01,\n",
    "    logging_dir=\"./logs\",\n",
    "    eval_strategy=\"epoch\",  \n",
    "    save_strategy=\"epoch\",  \n",
    "    save_total_limit=3,  \n",
    "    no_cuda=not torch.cuda.is_available(),  \n",
    "    dataloader_num_workers=4,  \n",
    "    dataloader_prefetch_factor=2  \n",
    ")\n",
    "\n",
    "trainer = Trainer(\n",
    "    model=model,\n",
    "    args=training_args,\n",
    "    train_dataset=tokenized_train_dataset,  \n",
    "    eval_dataset=tokenized_test_dataset     \n",
    ")\n",
    "\n",
    "trainer.train()"
   ]
  },
  {
   "cell_type": "code",
   "execution_count": 14,
   "id": "67ee051e-51e4-4bac-ba2e-b3aa9f848345",
   "metadata": {},
   "outputs": [
    {
     "data": {
      "text/plain": [
       "('resultsENG\\\\checkpoint-29304\\\\tokenizer_config.json',\n",
       " 'resultsENG\\\\checkpoint-29304\\\\special_tokens_map.json',\n",
       " 'resultsENG\\\\checkpoint-29304\\\\vocab.json',\n",
       " 'resultsENG\\\\checkpoint-29304\\\\source.spm',\n",
       " 'resultsENG\\\\checkpoint-29304\\\\target.spm',\n",
       " 'resultsENG\\\\checkpoint-29304\\\\added_tokens.json')"
      ]
     },
     "execution_count": 14,
     "metadata": {},
     "output_type": "execute_result"
    }
   ],
   "source": [
    "tokenizer.save_pretrained('resultsENG\\checkpoint-29304')"
   ]
  },
  {
   "cell_type": "code",
   "execution_count": 3,
   "id": "c139a3a4-5262-442b-a360-968d7fbeac4b",
   "metadata": {},
   "outputs": [
    {
     "name": "stdout",
     "output_type": "stream",
     "text": [
      "Faire d'une pierre deux coups\n"
     ]
    }
   ],
   "source": [
    "from transformers import MarianMTModel, MarianTokenizer\n",
    "\n",
    "model_path = \"resultsENG\\checkpoint-29304\"\n",
    "model = MarianMTModel.from_pretrained(model_path)\n",
    "tokenizer = MarianTokenizer.from_pretrained(model_path)\n",
    "\n",
    "\n",
    "def translate(text, model, tokenizer):\n",
    "    inputs = tokenizer(text, return_tensors=\"pt\", truncation=True, max_length=512).to(model.device)\n",
    "    translated_tokens = model.generate(**inputs)\n",
    "    translated_text = tokenizer.decode(translated_tokens[0], skip_special_tokens=True)\n",
    "    return translated_text\n",
    "\n",
    "\n",
    "source_text = \"To kill two birds with one stone\"\n",
    "translated_text = translate(source_text, model, tokenizer)\n",
    "print(translated_text)   "
   ]
  },
  {
   "cell_type": "code",
   "execution_count": 35,
   "id": "7f9c255a-f38b-44b4-b322-7aef76c3fba6",
   "metadata": {},
   "outputs": [
    {
     "name": "stdout",
     "output_type": "stream",
     "text": [
      "Translated text: C'est la peinture la plus célèbre au monde, et pourtant, quand les téléspectateurs parviennent à voir\n"
     ]
    }
   ],
   "source": [
    "\n",
    "model_name = \"Helsinki-NLP/opus-mt-en-fr\"\n",
    "tokenizer = MarianTokenizer.from_pretrained(model_name)\n",
    "model = MarianMTModel.from_pretrained(model_name)\n",
    "\n",
    "\n",
    "def translate(text):\n",
    "    inputs = tokenizer(text, return_tensors=\"pt\", padding=True, truncation=True)\n",
    "    outputs = model.generate(**inputs)\n",
    "    translated_text = tokenizer.decode(outputs[0], skip_special_tokens=True)\n",
    "    return translated_text\n",
    "\n",
    "\n",
    "text = \"It is the most famous painting in the world, and yet, when viewers manage to see\"\n",
    "translated_text = translate(text)\n",
    "print(\"Translated text:\", translated_text)\n"
   ]
  },
  {
   "cell_type": "code",
   "execution_count": 2,
   "id": "fdd929c0-adbd-4cdc-a716-7bcfe17a330f",
   "metadata": {},
   "outputs": [
    {
     "name": "stdout",
     "output_type": "stream",
     "text": [
      "Phrase: We are in deep water, struggling to find a solution.\n",
      "Custom Model Translation: Nous sommes dans de beaux draps, ayant du mal à trouver une solution.\n",
      "Pretrained Model Translation: Nous sommes en eau profonde, nous luttons pour trouver une solution.\n",
      "==================================================\n",
      "Phrase: It's not all sunshine and rainbows, there are challenges too.\n",
      "Custom Model Translation: Ce n'est pas tout le soleil et l'arcenciel, il y a aussi des défis.\n",
      "Pretrained Model Translation: Ce n'est pas tout le soleil et les arcs-en-ciel, il y a aussi des défis.\n",
      "==================================================\n",
      "Phrase: He has a chip on his shoulder, always ready for a fight.\n",
      "Custom Model Translation: Il a une dent contre quelqu'un, toujours prêt pour une bagarre.\n",
      "Pretrained Model Translation: Il a une puce sur l'épaule, toujours prête à se battre.\n",
      "==================================================\n",
      "Phrase: She bit off more than she could chew with this project.\n",
      "Custom Model Translation: Elle a vu trop grand avec ce projet.\n",
      "Pretrained Model Translation: Elle a mordu plus qu'elle ne pouvait mâcher avec ce projet.\n",
      "==================================================\n",
      "Phrase: They are walking on thin ice with their risky decisions.\n",
      "Custom Model Translation: Ils marchent sur des œufs avec leurs décisions risquées.\n",
      "Pretrained Model Translation: Ils marchent sur la glace mince avec leurs décisions risquées.\n",
      "==================================================\n",
      "Phrase: She made goo-goo eyes at him, trying to win his affection.\n",
      "Custom Model Translation: Elle lui a fait des yeux doux, essayant de gagner son affection.\n",
      "Pretrained Model Translation: Elle lui a fait des yeux de goo-goo, essayant de gagner son affection.\n",
      "==================================================\n",
      "Phrase: He is burning the midnight oil to get the job done.\n",
      "Custom Model Translation: Il brûle la chandelle par les deux bouts pour terminer le travail.\n",
      "Pretrained Model Translation: Il brûle l'huile de minuit pour faire le travail.\n",
      "==================================================\n",
      "Phrase: She is the black sheep of the family, always causing trouble.\n",
      "Custom Model Translation: Elle est le mouton noir de la famille, causant toujours des problèmes.\n",
      "Pretrained Model Translation: Elle est la brebis noire de la famille, causant toujours des ennuis.\n",
      "==================================================\n",
      "Phrase: He hit the nail on the head with his analysis.\n",
      "Custom Model Translation: Il a touché dans le mille avec son analyse.\n",
      "Pretrained Model Translation: Il a frappé l'ongle sur la tête avec son analyse.\n",
      "==================================================\n",
      "Phrase: They are on the same wavelength, understanding each other perfectly.\n",
      "Custom Model Translation: Ils sont sur la même longueur d'onde, se comprenant parfaitement.\n",
      "Pretrained Model Translation: Ils sont sur la même longueur d'onde, se comprenant parfaitement.\n",
      "==================================================\n",
      "Phrase: She spilled the beans about the surprise party.\n",
      "Custom Model Translation: Elle a vendu la mèche sur la fête surprise.\n",
      "Pretrained Model Translation: Elle a renversé les haricots à propos de la fête surprise.\n",
      "==================================================\n",
      "Phrase: He is in the doghouse after forgetting their anniversary.\n",
      "Custom Model Translation: Il est dans le chien après avoir oublié leur anniversaire.\n",
      "Pretrained Model Translation: Il est dans la maison de chien après avoir oublié leur anniversaire.\n",
      "==================================================\n",
      "Phrase: They are keeping their cards close to their chest about the merger.\n",
      "Custom Model Translation: Ils gardent leurs cartes près du coffre concernant la fusion.\n",
      "Pretrained Model Translation: Ils gardent leurs cartes près de leur poitrine au sujet de la fusion.\n",
      "==================================================\n",
      "Phrase: He is pulling strings to get his friend a job.\n",
      "Custom Model Translation: Il tire des ficelles pour obtenir un emploi à son ami.\n",
      "Pretrained Model Translation: Il tire des ficelles pour trouver un boulot à son ami.\n",
      "==================================================\n",
      "Phrase: She is in over her head with all these responsibilities.\n",
      "Custom Model Translation: Elle est dépassée par toutes ces responsabilités.\n",
      "Pretrained Model Translation: Elle est sur la tête avec toutes ces responsabilités.\n",
      "==================================================\n",
      "Phrase: They are feeling under the weather and need some rest.\n",
      "Custom Model Translation: Ils se sent patraque et ont besoin de se reposer.\n",
      "Pretrained Model Translation: Ils se sentent sous le temps et ont besoin de repos.\n",
      "==================================================\n",
      "Phrase: With a batting of her eyelashes, she gave him the puppy-dog eyes to get what she wanted.\n",
      "Custom Model Translation: Avec une batte de ses cils, elle lui a donné des yeux de chiot pour obtenir ce qu'elle vo\n",
      "Pretrained Model Translation: Avec un battement de ses cils, elle lui a donné les yeux de chien pour obtenir ce qu'elle voulait.\n",
      "==================================================\n",
      "Phrase: They accidentally let the cat out of the bag, ruining the whole plan.\n",
      "Custom Model Translation: Ils ont accidentellement vendu la mèche, ruinant tout le plan.\n",
      "Pretrained Model Translation: Ils ont accidentellement laissé le chat sortir du sac, gâcher tout le plan.\n",
      "==================================================\n",
      "Phrase: He’s got the Midas touch, everything he attempts turns to gold.\n",
      "Custom Model Translation: Il a la touche de Midas, tout ce qu'il tente se transforme en or.\n",
      "Pretrained Model Translation: Il a eu la touche Midas, tout ce qu'il tente se tourne vers l'or.\n",
      "==================================================\n",
      "Phrase: He is bending over backwards to help his friends.\n",
      "Custom Model Translation: Il se plie en quatre pour aider ses amis.\n",
      "Pretrained Model Translation: Il se penche vers l'arrière pour aider ses amis.\n",
      "==================================================\n",
      "Phrase: She is in the spotlight after her recent success.\n",
      "Custom Model Translation: Elle est sous les projecteurs après son récent succès.\n",
      "Pretrained Model Translation: Elle est sous les projecteurs après son récent succès.\n",
      "==================================================\n",
      "Phrase: They are breaking new ground with their innovative approach.\n",
      "Custom Model Translation: Ils entreprisent de nouveaux horizons avec leur approche innovante.\n",
      "Pretrained Model Translation: Ils ouvrent de nouveaux horizons grâce à leur approche novatrice.\n",
      "==================================================\n",
      "Phrase: He has a heart of gold, always helping others.\n",
      "Custom Model Translation: Il a un cœur en or, aidant toujours les autres.\n",
      "Pretrained Model Translation: Il a un cœur d'or, aidant toujours les autres.\n",
      "==================================================\n",
      "Phrase: She is skating on thin ice with her risky behavior.He always lands on his feet, it's like he's born under a lucky star.\n",
      "Custom Model Translation: Elle patine sur des œufs avec son comportement risqué Il se pose toujours sur ses pieds, c'\n",
      "Pretrained Model Translation: Elle patine sur la glace mince avec son comportement risqué.Il atterrit toujours sur ses pieds, c'est comme s'il était né sous une étoile chanceuse.\n",
      "==================================================\n",
      "Phrase: She made goo-goo eyes at him, trying to win his affection.\n",
      "Custom Model Translation: Elle lui a fait des yeux doux, essayant de gagner son affection.\n",
      "Pretrained Model Translation: Elle lui a fait des yeux de goo-goo, essayant de gagner son affection.\n",
      "==================================================\n",
      "Phrase: Despite their best efforts to keep it a secret, someone spilled the beans about the surprise party.\n",
      "Custom Model Translation: Malgré leurs meilleurs efforts pour garder le secret, quelqu'un a vendu la mèche sur la fête surprise.\n",
      "Pretrained Model Translation: Malgré leurs meilleurs efforts pour garder un secret, quelqu'un a renversé les haricots au sujet de la fête surprise.\n",
      "==================================================\n",
      "Phrase: Every time, he dodges trouble by a hair's breadth, truly a stroke of luck.\n",
      "Custom Model Translation: Chaque fois, il esquive les ennuis par une échelle de cheveux, vraiment un coup de chance.\n",
      "Pretrained Model Translation: Chaque fois, il évite les ennuis par la largeur d'un cheveu, vraiment un coup de chance.\n",
      "==================================================\n"
     ]
    }
   ],
   "source": [
    "from transformers import MarianMTModel, MarianTokenizer\n",
    "\n",
    "# Load models and tokenizers\n",
    "model_path = \"resultsENG/checkpoint-29304\"  # Replace with the correct path\n",
    "custom_model = MarianMTModel.from_pretrained(model_path)\n",
    "custom_tokenizer = MarianTokenizer.from_pretrained(model_path)\n",
    "\n",
    "pretrained_model_name = \"Helsinki-NLP/opus-mt-en-fr\"\n",
    "pretrained_tokenizer = MarianTokenizer.from_pretrained(pretrained_model_name)\n",
    "pretrained_model = MarianMTModel.from_pretrained(pretrained_model_name)\n",
    "\n",
    "# Translation function\n",
    "def translate(text, model, tokenizer):\n",
    "    inputs = tokenizer(text, return_tensors=\"pt\", truncation=True, max_length=35).to(model.device)\n",
    "    translated_tokens = model.generate(**inputs)\n",
    "    translated_text = tokenizer.decode(translated_tokens[0], skip_special_tokens=True)\n",
    "    return translated_text\n",
    "\n",
    "# New idiomatic phrases\n",
    "idiomatic_phrases = [\n",
    "    \"We are in deep water, struggling to find a solution.\",\n",
    "    \"It's not all sunshine and rainbows, there are challenges too.\",\n",
    "    \"He has a chip on his shoulder, always ready for a fight.\",\n",
    "    \"She bit off more than she could chew with this project.\",\n",
    "    \"They are walking on thin ice with their risky decisions.\",\n",
    "    \"She made goo-goo eyes at him, trying to win his affection.\",\n",
    "    \"He is burning the midnight oil to get the job done.\",\n",
    "    \"She is the black sheep of the family, always causing trouble.\",\n",
    "    \"He hit the nail on the head with his analysis.\",\n",
    "    \"They are on the same wavelength, understanding each other perfectly.\",\n",
    "    \"She spilled the beans about the surprise party.\",\n",
    "    \"He is in the doghouse after forgetting their anniversary.\",\n",
    "    \"They are keeping their cards close to their chest about the merger.\",\n",
    "    \"He is pulling strings to get his friend a job.\",\n",
    "    \"She is in over her head with all these responsibilities.\",\n",
    "    \"They are feeling under the weather and need some rest.\",\n",
    "    \"With a batting of her eyelashes, she gave him the puppy-dog eyes to get what she wanted.\",  \n",
    "    \"They accidentally let the cat out of the bag, ruining the whole plan.\",  \n",
    "    \"He’s got the Midas touch, everything he attempts turns to gold.\", \n",
    "    \"He is bending over backwards to help his friends.\",\n",
    "    \"She is in the spotlight after her recent success.\",\n",
    "    \"They are breaking new ground with their innovative approach.\",\n",
    "    \"He has a heart of gold, always helping others.\",\n",
    "    \"She is skating on thin ice with her risky behavior.\"\n",
    "    \"He always lands on his feet, it's like he's born under a lucky star.\",  \n",
    "    \"She made goo-goo eyes at him, trying to win his affection.\",  \n",
    "    \"Despite their best efforts to keep it a secret, someone spilled the beans about the surprise party.\",  \n",
    "    \"Every time, he dodges trouble by a hair's breadth, truly a stroke of luck.\", \n",
    "]\n",
    "\n",
    "# Compare translations\n",
    "comparisons = []\n",
    "for phrase in idiomatic_phrases:\n",
    "    custom_translation = translate(phrase, custom_model, custom_tokenizer)\n",
    "    pretrained_translation = translate(phrase, pretrained_model, pretrained_tokenizer)\n",
    "    comparisons.append((phrase, custom_translation, pretrained_translation))\n",
    "\n",
    "# Display results\n",
    "for phrase, custom_translation, pretrained_translation in comparisons:\n",
    "    print(f\"Phrase: {phrase}\")\n",
    "    print(f\"Custom Model Translation: {custom_translation}\")\n",
    "    print(f\"Pretrained Model Translation: {pretrained_translation}\")\n",
    "    print(\"=\"*50)\n"
   ]
  }
 ],
 "metadata": {
  "kernelspec": {
   "display_name": "Python (CUDAenv)",
   "language": "python",
   "name": "envforcuda"
  },
  "language_info": {
   "codemirror_mode": {
    "name": "ipython",
    "version": 3
   },
   "file_extension": ".py",
   "mimetype": "text/x-python",
   "name": "python",
   "nbconvert_exporter": "python",
   "pygments_lexer": "ipython3",
   "version": "3.8.18"
  }
 },
 "nbformat": 4,
 "nbformat_minor": 5
}
